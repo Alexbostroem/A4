{
 "cells": [
  {
   "cell_type": "markdown",
   "metadata": {},
   "source": [
    "# Task Description\n",
    "\n",
    "## Implementation\n",
    "\n",
    "The task involves implementing and evaluating three classifiers for diagnosing breast cancer using a dataset of patients tested via fine needle aspiration (FNA). The dataset contains statistics of 10 different features of multiple cell samples, along with a diagnosis (malignant or benign).\n",
    "\n",
    "1. **Rule-based Classifier**: A rule-based classifier where abnormal cell size, shape, texture, or homogeneity indicate malignancy.\n",
    "\n",
    "2. **Random Forest Classifier**: Applied to the supplied dataset features using the sklearn framework.\n",
    "\n",
    "3. **Custom Classifier**: Designed to balance interpretability and classification performance.\n",
    "\n",
    "### Rule-based Classifier\n",
    "For the rule-based classifier, appropriate variables need to be defined based on medical insights and the available data. The rules are interpreted from the medical insights provided.\n",
    "\n",
    "### Random Forest Classifier\n",
    "The sklearn framework is used to implement a random forest classifier on the dataset features.\n",
    "\n",
    "### Custom Classifier\n",
    "A custom classifier is designed to balance interpretability and classification performance, building on existing models but focused on the mentioned trade-off.\n",
    "\n",
    "## Evaluation\n",
    "The classification performance of the three classifiers will be compared and the interpretability of each will be discussed. Notable interactions between features will also be explored.\n",
    "\n",
    "---\n",
    "\n"
   ]
  },
  {
   "cell_type": "code",
   "execution_count": 127,
   "metadata": {},
   "outputs": [],
   "source": [
    "import pandas as pd\n",
    "import numpy as np\n",
    "import matplotlib.pyplot as plt\n",
    "from sklearn.ensemble import RandomForestClassifier\n",
    "from sklearn.metrics import accuracy_score\n",
    "from sklearn.model_selection import train_test_split\n",
    "from sklearn.tree import export_graphviz\n",
    "from IPython.display import Image"
   ]
  },
  {
   "cell_type": "code",
   "execution_count": 128,
   "metadata": {},
   "outputs": [],
   "source": [
    "class BreastCancerClassifier:\n",
    "    def __init__(self):\n",
    "        # Initialize classifiers\n",
    "        self.random_forest_classifier = RandomForestClassifier()\n",
    "        \n",
    "    def fit(self, df, X_train, y_train):\n",
    "        self.fit_rule_based_classifier(df)\n",
    "        self.random_forest_classifier.fit(X_train, y_train)\n",
    "        pass\n",
    "\n",
    "    def predict(self, X_test):\n",
    "        y_pred = self.random_forest_classifier.predict(X_test)\n",
    "        return y_pred\n",
    "   \n",
    "    def score(self, df, X_test, y_test):\n",
    "        self.fit_rule_based_scorer(df)\n",
    "        y_pred = self.predict(X_test)\n",
    "        accuracy = accuracy_score(y_test, y_pred) * 100\n",
    "        print(f\"Accuracy Random forest: {accuracy:.2f}%\")\n",
    "        self.custom_scorer(df,self.custom_classifier(df, y_pred, X_test), X_test)\n",
    "        \n",
    "\n",
    "    def custom_classifier(self,df,y_predicted, X_test):\n",
    "            \n",
    "            # Extract the indices of X_test\n",
    "            test_indices = X_test.index\n",
    "\n",
    "            # Filter df using the indices of X_test and select all features\n",
    "            rule_base_predictions = df.loc[test_indices, 'predicted_diagnosis']\n",
    "        \n",
    "            random_forest_predictions = y_predicted\n",
    "\n",
    "\n",
    "\n",
    "            predictions_combined = []\n",
    "\n",
    "            for pred_rule_based,pred_rf in zip(rule_base_predictions,random_forest_predictions):\n",
    "                if pred_rf == 1:\n",
    "                    predictions_combined.append(pred_rf)\n",
    "                else:\n",
    "                    predictions_combined.append(pred_rule_based)\n",
    "            \n",
    "            return predictions_combined\n",
    "\n",
    "\n",
    "    def fit_rule_based_classifier(self, df):\n",
    "        features = df[df.malignant == 0].drop(columns=[\"id\", \"malignant\"])\n",
    "\n",
    "       # Find the maximum value for each feature\n",
    "        max_values = features.max()\n",
    "        \n",
    "        # Store the maximum value for each feature in a dictionary\n",
    "        thresholds = max_values.to_dict()\n",
    "        \n",
    "\n",
    "        # Define a function to classify based on thresholds\n",
    "        def classify(row):\n",
    "            for feature, threshold in thresholds.items():\n",
    "                if row[feature] > threshold:\n",
    "                    return 1  # malignant\n",
    "            return 0  # benign\n",
    "        \n",
    "        df[\"predicted_diagnosis\"] = df.apply(classify, axis=1)\n",
    "\n",
    "              \n",
    "\n",
    "    def fit_rule_based_scorer(self, X_test):\n",
    "        correct_predictions = (X_test['malignant'] == X_test['predicted_diagnosis']).sum()\n",
    "        total_predictions = len(X_test)\n",
    "        accuracy_percentage = (correct_predictions / total_predictions) * 100\n",
    "\n",
    "        print(f\"Accuracy Rule based: {accuracy_percentage:.2f}%\")\n",
    "\n",
    "    def custom_scorer(self, df, predicted, X_test):\n",
    "        loop = X_test.index\n",
    "        loopdf = df.loc[loop, 'malignant']\n",
    "        correct_predictions = (loopdf == predicted).sum()\n",
    "        total_predictions = len(X_test)\n",
    "        accuracy_percentage = (correct_predictions / total_predictions) * 100\n",
    "\n",
    "        print(f\"Accuracy Rule based: {accuracy_percentage:.2f}%\")      \n",
    "\n",
    "   \n",
    "        "
   ]
  },
  {
   "cell_type": "code",
   "execution_count": 129,
   "metadata": {},
   "outputs": [
    {
     "name": "stdout",
     "output_type": "stream",
     "text": [
      "Accuracy Rule based: 93.32%\n",
      "Accuracy Random forest: 96.49%\n",
      "Accuracy Rule based: 96.49%\n"
     ]
    }
   ],
   "source": [
    "# Loading data\n",
    "df = pd.read_pickle('dataset/wdbc.pkl')\n",
    "X = df.drop(columns=[\"id\", \"malignant\"])\n",
    "y = df.malignant\n",
    "X_train, X_test, y_train, y_test = train_test_split(X, y, test_size=0.2, random_state=42)  \n",
    "\n",
    "\n",
    "# Training and scoring\n",
    "classifier = BreastCancerClassifier()\n",
    "classifier.fit(df, X_train, y_train)\n",
    "classifier.score(df, X_test, y_test)"
   ]
  },
  {
   "cell_type": "code",
   "execution_count": 130,
   "metadata": {},
   "outputs": [],
   "source": [
    "\n",
    "\n",
    "# Assuming classifier is an instance of your BreastCancerClassifier class\n",
    "\n",
    "for i, tree in enumerate(classifier.random_forest_classifier.estimators_[:1]):\n",
    "    dot_data = export_graphviz(tree,\n",
    "                               feature_names=X_train.columns,  \n",
    "                               filled=True,  \n",
    "                               max_depth=10, \n",
    "                               impurity=False, \n",
    "                               proportion=True)\n",
    "    graph = graphviz.Source(dot_data)\n",
    "    # Display or save the tree visualization as needed\n",
    "    graph.view()\n"
   ]
  },
  {
   "cell_type": "code",
   "execution_count": 131,
   "metadata": {},
   "outputs": [
    {
     "data": {
      "text/plain": [
       "'\"\\nfig, axs = plt.subplots(10, 3, figsize=(12, 12))\\naxs = axs.flatten()\\n\\n# Limit the number of features to the length of axs array\\nnum_features = min(len(features.columns), len(axs))\\n\\nfor i, feature in enumerate(features.columns[:num_features]):\\n    axs[i].hist(benign[feature], bins=20, alpha=0.5, color=\\'blue\\', label=\\'Benign\\')\\n    axs[i].hist(malignant[feature], bins=20, alpha=0.5, color=\\'red\\', label=\\'Malignant\\')\\n    axs[i].set_title(feature)\\n    axs[i].legend()\\n\\nplt.tight_layout()\\nplt.show()\\n'"
      ]
     },
     "execution_count": 131,
     "metadata": {},
     "output_type": "execute_result"
    }
   ],
   "source": [
    "\"\"\"\"\n",
    "fig, axs = plt.subplots(10, 3, figsize=(12, 12))\n",
    "axs = axs.flatten()\n",
    "\n",
    "# Limit the number of features to the length of axs array\n",
    "num_features = min(len(features.columns), len(axs))\n",
    "\n",
    "for i, feature in enumerate(features.columns[:num_features]):\n",
    "    axs[i].hist(benign[feature], bins=20, alpha=0.5, color='blue', label='Benign')\n",
    "    axs[i].hist(malignant[feature], bins=20, alpha=0.5, color='red', label='Malignant')\n",
    "    axs[i].set_title(feature)\n",
    "    axs[i].legend()\n",
    "\n",
    "plt.tight_layout()\n",
    "plt.show()\n",
    "\"\"\""
   ]
  },
  {
   "cell_type": "code",
   "execution_count": 132,
   "metadata": {},
   "outputs": [
    {
     "data": {
      "text/plain": [
       "id                     859575.000000\n",
       "malignant                   1.000000\n",
       "radius_0                   18.940000\n",
       "texture_0                  21.310000\n",
       "perimeter_0               123.600000\n",
       "area_0                   1130.000000\n",
       "smoothness_0                0.090090\n",
       "compactness_0               0.102900\n",
       "concavity_0                 0.108000\n",
       "concave points_0            0.079510\n",
       "symmetry_0                  0.158200\n",
       "fractal dimension_0         0.054610\n",
       "radius_1                    0.788800\n",
       "texture_1                   0.797500\n",
       "perimeter_1                 5.486000\n",
       "area_1                     96.050000\n",
       "smoothness_1                0.004444\n",
       "compactness_1               0.016520\n",
       "concavity_1                 0.022690\n",
       "concave points_1            0.013700\n",
       "symmetry_1                  0.013860\n",
       "fractal dimension_1         0.001698\n",
       "radius_2                   24.860000\n",
       "texture_2                  26.580000\n",
       "perimeter_2               165.900000\n",
       "area_2                   1866.000000\n",
       "smoothness_2                0.119300\n",
       "compactness_2               0.233600\n",
       "concavity_2                 0.268700\n",
       "concave points_2            0.178900\n",
       "symmetry_2                  0.255100\n",
       "fractal dimension_2         0.065890\n",
       "predicted_diagnosis         1.000000\n",
       "Name: 70, dtype: float64"
      ]
     },
     "execution_count": 132,
     "metadata": {},
     "output_type": "execute_result"
    }
   ],
   "source": [
    "#print(df['index'] == 70)\n",
    "df.loc[70]"
   ]
  }
 ],
 "metadata": {
  "kernelspec": {
   "display_name": "Python 3",
   "language": "python",
   "name": "python3"
  },
  "language_info": {
   "codemirror_mode": {
    "name": "ipython",
    "version": 3
   },
   "file_extension": ".py",
   "mimetype": "text/x-python",
   "name": "python",
   "nbconvert_exporter": "python",
   "pygments_lexer": "ipython3",
   "version": "3.12.1"
  }
 },
 "nbformat": 4,
 "nbformat_minor": 2
}
