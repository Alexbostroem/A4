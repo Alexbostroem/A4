{
 "cells": [
  {
   "cell_type": "markdown",
   "metadata": {},
   "source": [
    "# Task Description\n",
    "\n",
    "## Implementation\n",
    "\n",
    "The task involves implementing and evaluating three classifiers for diagnosing breast cancer using a dataset of patients tested via fine needle aspiration (FNA). The dataset contains statistics of 10 different features of multiple cell samples, along with a diagnosis (malignant or benign).\n",
    "\n",
    "1. **Rule-based Classifier**: A rule-based classifier where abnormal cell size, shape, texture, or homogeneity indicate malignancy.\n",
    "\n",
    "2. **Random Forest Classifier**: Applied to the supplied dataset features using the sklearn framework.\n",
    "\n",
    "3. **Custom Classifier**: Designed to balance interpretability and classification performance.\n",
    "\n",
    "### Rule-based Classifier\n",
    "For the rule-based classifier, appropriate variables need to be defined based on medical insights and the available data. The rules are interpreted from the medical insights provided.\n",
    "\n",
    "### Random Forest Classifier\n",
    "The sklearn framework is used to implement a random forest classifier on the dataset features.\n",
    "\n",
    "### Custom Classifier\n",
    "A custom classifier is designed to balance interpretability and classification performance, building on existing models but focused on the mentioned trade-off.\n",
    "\n",
    "## Evaluation\n",
    "The classification performance of the three classifiers will be compared and the interpretability of each will be discussed. Notable interactions between features will also be explored.\n",
    "\n",
    "---\n",
    "\n"
   ]
  },
  {
   "cell_type": "code",
   "execution_count": 140,
   "metadata": {},
   "outputs": [],
   "source": [
    "import pandas as pd\n",
    "import numpy as np\n",
    "import matplotlib.pyplot as plt\n",
    "from sklearn.ensemble import RandomForestClassifier\n",
    "from sklearn.model_selection import train_test_split\n",
    "from sklearn.metrics import accuracy_score"
   ]
  },
  {
   "cell_type": "code",
   "execution_count": 144,
   "metadata": {},
   "outputs": [],
   "source": [
    "class BreastCancerClassifier:\n",
    "    def __init__(self):\n",
    "        # Initialize classifiers\n",
    "        self.rule_based_classifier = None\n",
    "        self.random_forest_classifier = RandomForestClassifier()\n",
    "        self.custom_classifier = None\n",
    "        \n",
    "    def fit(self, df, X_train, y_train):\n",
    "        self.fit_rule_based_classifier(df)\n",
    "        self.random_forest_classifier.fit(X_train, y_train)\n",
    "        pass\n",
    "\n",
    "    def predict(self, X_test):\n",
    "        y_pred = self.random_forest_classifier.predict(X_test)\n",
    "        return y_pred\n",
    "   \n",
    "    def score(self, df , X_test, y_test):\n",
    "        self.fit_rule_based_scorer(df)\n",
    "        y_pred = self.predict(X_test)\n",
    "        accuracy = accuracy_score(y_test, y_pred)\n",
    "        print(\"Accuracy Random forrest:\", accuracy)\n",
    "        pass\n",
    "\n",
    "    def fit_rule_based_classifier(self, df):\n",
    "        features = df[df.malignant == 0].drop(columns=[\"id\", \"malignant\"])\n",
    "\n",
    "       # Find the maximum value for each feature\n",
    "        max_values = features.max()\n",
    "        \n",
    "        # Store the maximum value for each feature in a dictionary\n",
    "        thresholds = max_values.to_dict()\n",
    "        \n",
    "\n",
    "        # Define a function to classify based on thresholds\n",
    "        def classify(row):\n",
    "            for feature, threshold in thresholds.items():\n",
    "                if row[feature] > threshold:\n",
    "                    return 1  # malignant\n",
    "            return 0  # benign\n",
    "        \n",
    "        df[\"predicted_diagnosis\"] = df.apply(classify, axis=1)\n",
    "\n",
    "    def fit_rule_based_scorer(self, X_test):\n",
    "        correct_predictions = (X_test['malignant'] == X_test['predicted_diagnosis']).sum()\n",
    "        total_predictions = len(X_test)\n",
    "        accuracy_percentage = (correct_predictions / total_predictions) * 100\n",
    "\n",
    "        print(f\"Accuracy Rule based: {accuracy_percentage:.2f}%\")      \n",
    "        "
   ]
  },
  {
   "cell_type": "code",
   "execution_count": 145,
   "metadata": {},
   "outputs": [
    {
     "name": "stdout",
     "output_type": "stream",
     "text": [
      "Accuracy rule based: 93.32%\n",
      "Accuracy Random forrest: 0.9649122807017544\n"
     ]
    }
   ],
   "source": [
    "df = pd.read_pickle('dataset/wdbc.pkl')\n",
    "X = df.drop(columns=[\"id\", \"malignant\"])\n",
    "y = df.malignant\n",
    "X_train, X_test, y_train, y_test = train_test_split(X, y, test_size=0.2, random_state=42)\n",
    "\n",
    "classifier = BreastCancerClassifier()\n",
    "classifier.fit(df,X_train,y_train)\n",
    "classifier.score(df, X_test, y_test)\n",
    "\n",
    "\n",
    "\n",
    "\n"
   ]
  },
  {
   "cell_type": "code",
   "execution_count": 143,
   "metadata": {},
   "outputs": [
    {
     "data": {
      "text/plain": [
       "'\"\\nfig, axs = plt.subplots(10, 3, figsize=(12, 12))\\naxs = axs.flatten()\\n\\n# Limit the number of features to the length of axs array\\nnum_features = min(len(features.columns), len(axs))\\n\\nfor i, feature in enumerate(features.columns[:num_features]):\\n    axs[i].hist(benign[feature], bins=20, alpha=0.5, color=\\'blue\\', label=\\'Benign\\')\\n    axs[i].hist(malignant[feature], bins=20, alpha=0.5, color=\\'red\\', label=\\'Malignant\\')\\n    axs[i].set_title(feature)\\n    axs[i].legend()\\n\\nplt.tight_layout()\\nplt.show()\\n'"
      ]
     },
     "execution_count": 143,
     "metadata": {},
     "output_type": "execute_result"
    }
   ],
   "source": [
    "\"\"\"\"\n",
    "fig, axs = plt.subplots(10, 3, figsize=(12, 12))\n",
    "axs = axs.flatten()\n",
    "\n",
    "# Limit the number of features to the length of axs array\n",
    "num_features = min(len(features.columns), len(axs))\n",
    "\n",
    "for i, feature in enumerate(features.columns[:num_features]):\n",
    "    axs[i].hist(benign[feature], bins=20, alpha=0.5, color='blue', label='Benign')\n",
    "    axs[i].hist(malignant[feature], bins=20, alpha=0.5, color='red', label='Malignant')\n",
    "    axs[i].set_title(feature)\n",
    "    axs[i].legend()\n",
    "\n",
    "plt.tight_layout()\n",
    "plt.show()\n",
    "\"\"\""
   ]
  }
 ],
 "metadata": {
  "kernelspec": {
   "display_name": "Python 3",
   "language": "python",
   "name": "python3"
  },
  "language_info": {
   "codemirror_mode": {
    "name": "ipython",
    "version": 3
   },
   "file_extension": ".py",
   "mimetype": "text/x-python",
   "name": "python",
   "nbconvert_exporter": "python",
   "pygments_lexer": "ipython3",
   "version": "3.12.1"
  }
 },
 "nbformat": 4,
 "nbformat_minor": 2
}
